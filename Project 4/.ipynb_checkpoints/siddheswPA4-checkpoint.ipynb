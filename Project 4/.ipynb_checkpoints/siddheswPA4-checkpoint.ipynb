{
 "cells": [
  {
   "cell_type": "markdown",
   "metadata": {},
   "source": [
    "# CSE 555 - Introduction to Pattern Recognition\n",
    "## Programming Assignment 4 - Multi-layer Perceptron Neural Networks and Convolution Neural Networks\n",
    "### Siddheswar Chandrasekhar\n",
    "<br>"
   ]
  },
  {
   "cell_type": "code",
   "execution_count": 0,
   "metadata": {
    "colab": {
     "base_uri": "https://localhost:8080/",
     "height": 34
    },
    "colab_type": "code",
    "id": "DCn93YOUWwSt",
    "outputId": "047ae59c-42e3-4d5c-e7e4-ac7d71f31767"
   },
   "outputs": [
    {
     "name": "stderr",
     "output_type": "stream",
     "text": [
      "Using TensorFlow backend.\n"
     ]
    }
   ],
   "source": [
    "#!/usr/bin/env python\n",
    "# -*- coding: utf-8 -*-\n",
    "# @Author: Siddheswar C\n",
    "# @Email: innocentdevil.sid007@gmail.com\n",
    "\n",
    "\n",
    "import tensorflow as tf\n",
    "import numpy as np\n",
    "import pandas as pd\n",
    "import keras\n",
    "from keras.utils import np_utils\n",
    "from keras.preprocessing.image import ImageDataGenerator\n",
    "from sklearn import metrics\n",
    "%matplotlib inline"
   ]
  },
  {
   "cell_type": "markdown",
   "metadata": {
    "colab_type": "text",
    "id": "Et3eVvlEZyQi"
   },
   "source": [
    "## Model Definitions"
   ]
  },
  {
   "cell_type": "markdown",
   "metadata": {
    "colab_type": "text",
    "id": "N7A8WwejmDxa"
   },
   "source": [
    "### Neural Network"
   ]
  },
  {
   "cell_type": "code",
   "execution_count": 0,
   "metadata": {
    "colab": {},
    "colab_type": "code",
    "id": "U62yKLIGWyYC"
   },
   "outputs": [],
   "source": [
    "class NeuralNet:\n",
    "\n",
    "    def __init__(self, num_of_layers=1, l2=False):\n",
    "\n",
    "        self.model = tf.keras.models.Sequential()\n",
    "        self.model.add(tf.keras.layers.Flatten())\n",
    "\n",
    "        if l2:\n",
    "            for _ in range(num_of_layers):\n",
    "                self.model.add(\n",
    "                    tf.keras.layers.Dense(\n",
    "                        30, activation=tf.sigmoid,\n",
    "                        kernel_regularizer=tf.keras.regularizers.l2(5)\n",
    "                    )\n",
    "                )\n",
    "\n",
    "        else:\n",
    "            for _ in range(num_of_layers):\n",
    "                self.model.add(tf.keras.layers.Dense(30, activation=tf.sigmoid))\n",
    "\n",
    "        self.model.add(tf.keras.layers.Dense(10, activation=tf.nn.softmax))\n",
    "\n",
    "        self.yhat = []\n",
    "        self.model.compile(optimizer='adam',\n",
    "                           loss='sparse_categorical_crossentropy',\n",
    "                           metrics=['accuracy'])\n",
    "\n",
    "    def predict(self, x, y):\n",
    "        self.yhat = np.argmax(self.model.predict(x), axis=1)\n",
    "        accuracy = metrics.accuracy_score(y, self.yhat)\n",
    "\n",
    "        return accuracy\n",
    "\n",
    "    def fit(self, x, y, validation_data, epochs):\n",
    "        return self.model.fit(x, y, validation_data=validation_data, epochs=epochs, batch_size=10, verbose=0)"
   ]
  },
  {
   "cell_type": "markdown",
   "metadata": {
    "colab_type": "text",
    "id": "UQGAro9YBHIB"
   },
   "source": [
    "### Convolutional Neural Network"
   ]
  },
  {
   "cell_type": "code",
   "execution_count": 0,
   "metadata": {
    "colab": {},
    "colab_type": "code",
    "id": "iHSVmRpzrlbk"
   },
   "outputs": [],
   "source": [
    "class ConvolutionalNeuralNet:\n",
    "    \n",
    "    def __init__(self):\n",
    "        self.model = tf.keras.models.Sequential([\n",
    "            tf.keras.layers.Conv2D(32, kernel_size=(5,5), strides=(1,1), activation='relu', input_shape=(28,28,1)),\n",
    "            tf.keras.layers.MaxPooling2D(pool_size=(2,2), strides=(2,2)),\n",
    "            tf.keras.layers.Conv2D(64, kernel_size=(5,5), activation='relu'),\n",
    "            tf.keras.layers.MaxPooling2D(pool_size=(2,2)),\n",
    "            tf.keras.layers.Flatten(),\n",
    "            tf.keras.layers.Dense(1000, activation='relu'),\n",
    "            tf.keras.layers.Dense(10, activation='softmax')\n",
    "        ])\n",
    "        \n",
    "        self.model.compile(loss=keras.losses.categorical_crossentropy,\n",
    "              optimizer=tf.keras.optimizers.SGD(lr=0.1),\n",
    "              metrics=['accuracy'])\n",
    "    \n",
    "    def shift_rotate(self, rotate_degree, shift_pixel):\n",
    "        self.datagen = ImageDataGenerator(\n",
    "            featurewise_center=True,\n",
    "            featurewise_std_normalization=True,\n",
    "            rotation_range=rotate_degree,\n",
    "            width_shift_range=shift_pixel,\n",
    "            height_shift_range=shift_pixel,\n",
    "            horizontal_flip=True\n",
    "        )\n",
    "        \n",
    "    def predict(self, x_test, y_test):\n",
    "        return self.model.evaluate(x_test, y_test, verbose=0)\n",
    "      \n",
    "    def fit(self, x, y, validation_data, batch_size, epochs):\n",
    "        self.model.fit_generator(self.datagen.flow(\n",
    "                                      train_x, train_y,\n",
    "                                      batch_size=batch_size),\n",
    "                                      steps_per_epoch=len(train_x)/batch_size,\n",
    "                                      epochs=epochs,\n",
    "                                      verbose=0\n",
    "                                )"
   ]
  },
  {
   "cell_type": "markdown",
   "metadata": {
    "colab_type": "text",
    "id": "cd5yPYuImH57"
   },
   "source": [
    "## MNIST Dataset"
   ]
  },
  {
   "cell_type": "code",
   "execution_count": 0,
   "metadata": {
    "colab": {},
    "colab_type": "code",
    "id": "sVc2drleWyaT"
   },
   "outputs": [],
   "source": [
    "mnist = tf.keras.datasets.mnist\n",
    "(x_train, y_train), (x_test, y_test) = mnist.load_data()\n",
    "x_train, x_test = x_train / 255.0, x_test / 255.0\n",
    "\n",
    "x_val = x_train[-10000:]\n",
    "y_val = y_train[-10000:]\n",
    "\n",
    "x_train = x_train[:x_train.shape[0]-10000]\n",
    "y_train = y_train[:y_train.shape[0]-10000]\n",
    "\n",
    "data = {}\n",
    "\n",
    "for i in range(10):\n",
    "    data[i] = list()\n",
    "\n",
    "for i in range(len(x_train)):\n",
    "    data[y_train[i]].append(x_train[i])"
   ]
  },
  {
   "cell_type": "code",
   "execution_count": 0,
   "metadata": {
    "colab": {},
    "colab_type": "code",
    "id": "WOlBGk3_Wyc1"
   },
   "outputs": [],
   "source": [
    "train_x = list()\n",
    "train_y = list()\n",
    "\n",
    "for i in range(len(data)):\n",
    "    for j in range(100):\n",
    "        train_x.append(data[i][j])\n",
    "        train_y.append(i)\n",
    "\n",
    "train_x = np.asarray(train_x)\n",
    "train_y = np.asarray(train_y)"
   ]
  },
  {
   "cell_type": "markdown",
   "metadata": {
    "colab_type": "text",
    "id": "Z_F6bY5EZrw8"
   },
   "source": [
    "## Neural Network"
   ]
  },
  {
   "cell_type": "markdown",
   "metadata": {
    "colab_type": "text",
    "id": "TRPHkPTVmQU0"
   },
   "source": [
    "### 1 hidden layer"
   ]
  },
  {
   "cell_type": "code",
   "execution_count": 0,
   "metadata": {
    "colab": {
     "base_uri": "https://localhost:8080/",
     "height": 105
    },
    "colab_type": "code",
    "id": "KdDQKuMhWyfG",
    "outputId": "8a63e34f-c5e5-47fc-bf80-ede9cb0d09ae"
   },
   "outputs": [
    {
     "name": "stdout",
     "output_type": "stream",
     "text": [
      "WARNING:tensorflow:From /usr/local/lib/python3.6/dist-packages/tensorflow/python/ops/resource_variable_ops.py:435: colocate_with (from tensorflow.python.framework.ops) is deprecated and will be removed in a future version.\n",
      "Instructions for updating:\n",
      "Colocations handled automatically by placer.\n",
      "Accuracy: 87.44%\n"
     ]
    }
   ],
   "source": [
    "nn = NeuralNet()\n",
    "train = nn.fit(train_x, train_y, (x_val, y_val), epochs=30)\n",
    "accuracy = nn.predict(x_test, y_test)\n",
    "print(\"Accuracy: \" + str(round(accuracy*100, 2)) + \"%\")"
   ]
  },
  {
   "cell_type": "code",
   "execution_count": 0,
   "metadata": {
    "colab": {
     "base_uri": "https://localhost:8080/",
     "height": 286
    },
    "colab_type": "code",
    "id": "5rtshJJLWyj-",
    "outputId": "0dcb1415-e3c0-4a78-e3be-922b00e917d1"
   },
   "outputs": [
    {
     "data": {
      "text/plain": [
       "<matplotlib.axes._subplots.AxesSubplot at 0x7fcae5047978>"
      ]
     },
     "execution_count": 7,
     "metadata": {
      "tags": []
     },
     "output_type": "execute_result"
    },
    {
     "data": {
      "image/png": "[encoded data removed]",
      "text/plain": [
       "<Figure size 432x288 with 1 Axes>"
      ]
     },
     "metadata": {
      "tags": []
     },
     "output_type": "display_data"
    }
   ],
   "source": [
    "df = pd.DataFrame()\n",
    "df['training_loss'] = train.history['loss']\n",
    "df['validation_loss'] = train.history['val_loss']\n",
    "df.plot(grid=True)"
   ]
  },
  {
   "cell_type": "markdown",
   "metadata": {
    "colab_type": "text",
    "id": "ix1SoEhHmfTD"
   },
   "source": [
    "### 2 hidden layers"
   ]
  },
  {
   "cell_type": "code",
   "execution_count": 0,
   "metadata": {
    "colab": {
     "base_uri": "https://localhost:8080/",
     "height": 34
    },
    "colab_type": "code",
    "id": "f6b-ZdlHWymN",
    "outputId": "9a21fb2b-a9c5-4f7c-84d6-6dccb8a5ad27"
   },
   "outputs": [
    {
     "name": "stdout",
     "output_type": "stream",
     "text": [
      "Accuracy: 84.84%\n"
     ]
    }
   ],
   "source": [
    "nn = NeuralNet(num_of_layers=2)\n",
    "train = nn.fit(train_x, train_y, (x_val, y_val), epochs=30)\n",
    "accuracy = nn.predict(x_test, y_test)\n",
    "print(\"Accuracy: \" + str(round(accuracy*100, 2)) + \"%\")"
   ]
  },
  {
   "cell_type": "code",
   "execution_count": 0,
   "metadata": {
    "colab": {
     "base_uri": "https://localhost:8080/",
     "height": 286
    },
    "colab_type": "code",
    "id": "3mY4XjluWyq5",
    "outputId": "81b53bce-16c9-45e5-fec2-2b37fb63d21c"
   },
   "outputs": [
    {
     "data": {
      "text/plain": [
       "<matplotlib.axes._subplots.AxesSubplot at 0x7fcadd962dd8>"
      ]
     },
     "execution_count": 9,
     "metadata": {
      "tags": []
     },
     "output_type": "execute_result"
    },
    {
     "data": {
      "image/png": "[encoded data removed]",
      "text/plain": [
       "<Figure size 432x288 with 1 Axes>"
      ]
     },
     "metadata": {
      "tags": []
     },
     "output_type": "display_data"
    }
   ],
   "source": [
    "df = pd.DataFrame()\n",
    "df['training_loss'] = train.history['loss']\n",
    "df['validation_loss'] = train.history['val_loss']\n",
    "df.plot(grid=True)"
   ]
  },
  {
   "cell_type": "markdown",
   "metadata": {
    "colab_type": "text",
    "id": "XQa9kqLRmrvA"
   },
   "source": [
    "### 3 hidden layers"
   ]
  },
  {
   "cell_type": "code",
   "execution_count": 0,
   "metadata": {
    "colab": {
     "base_uri": "https://localhost:8080/",
     "height": 34
    },
    "colab_type": "code",
    "id": "Ar7gPpQbWytO",
    "outputId": "d1e37749-c3c8-4649-963f-d9c0d5527a90"
   },
   "outputs": [
    {
     "name": "stdout",
     "output_type": "stream",
     "text": [
      "Accuracy: 82.29%\n"
     ]
    }
   ],
   "source": [
    "nn = NeuralNet(num_of_layers=3)\n",
    "train = nn.fit(train_x, train_y, (x_val, y_val), epochs=30)\n",
    "accuracy = nn.predict(x_test, y_test)\n",
    "print(\"Accuracy: \" + str(round(accuracy*100, 2)) + \"%\")"
   ]
  },
  {
   "cell_type": "code",
   "execution_count": 0,
   "metadata": {
    "colab": {
     "base_uri": "https://localhost:8080/",
     "height": 286
    },
    "colab_type": "code",
    "id": "XIs_JL1PWyvy",
    "outputId": "28e07800-307e-4f22-afc4-470ba998175b"
   },
   "outputs": [
    {
     "data": {
      "text/plain": [
       "<matplotlib.axes._subplots.AxesSubplot at 0x7fcadca22d30>"
      ]
     },
     "execution_count": 11,
     "metadata": {
      "tags": []
     },
     "output_type": "execute_result"
    },
    {
     "data": {
      "image/png": "[encoded data removed]",
      "text/plain": [
       "<Figure size 432x288 with 1 Axes>"
      ]
     },
     "metadata": {
      "tags": []
     },
     "output_type": "display_data"
    }
   ],
   "source": [
    "df = pd.DataFrame()\n",
    "df['training_loss'] = train.history['loss']\n",
    "df['validation_loss'] = train.history['val_loss']\n",
    "df.plot(grid=True)"
   ]
  },
  {
   "cell_type": "markdown",
   "metadata": {
    "colab_type": "text",
    "id": "KVOmnmS9mzCq"
   },
   "source": [
    "### 1 hidden layer with L2 regularization"
   ]
  },
  {
   "cell_type": "code",
   "execution_count": 0,
   "metadata": {
    "colab": {
     "base_uri": "https://localhost:8080/",
     "height": 34
    },
    "colab_type": "code",
    "id": "4owWKJHuWyyB",
    "outputId": "69b5b0eb-ae4d-45a8-a14f-ae46478afdd3"
   },
   "outputs": [
    {
     "name": "stdout",
     "output_type": "stream",
     "text": [
      "Accuracy: 13.22%\n"
     ]
    }
   ],
   "source": [
    "nn = NeuralNet(l2=True)\n",
    "train = nn.fit(train_x, train_y, (x_val, y_val), epochs=30)\n",
    "accuracy = nn.predict(x_test, y_test)\n",
    "print(\"Accuracy: \" + str(round(accuracy*100, 2)) + \"%\")"
   ]
  },
  {
   "cell_type": "code",
   "execution_count": 0,
   "metadata": {
    "colab": {
     "base_uri": "https://localhost:8080/",
     "height": 286
    },
    "colab_type": "code",
    "id": "SEroroZ3Wy0X",
    "outputId": "c41dcf0f-2d58-490c-a6f3-6b8c48da4cd0"
   },
   "outputs": [
    {
     "data": {
      "text/plain": [
       "<matplotlib.axes._subplots.AxesSubplot at 0x7fcadc49ecc0>"
      ]
     },
     "execution_count": 13,
     "metadata": {
      "tags": []
     },
     "output_type": "execute_result"
    },
    {
     "data": {
      "image/png": "[encoded data removed]",
      "text/plain": [
       "<Figure size 432x288 with 1 Axes>"
      ]
     },
     "metadata": {
      "tags": []
     },
     "output_type": "display_data"
    }
   ],
   "source": [
    "df = pd.DataFrame()\n",
    "df['training_loss'] = train.history['loss']\n",
    "df['validation_loss'] = train.history['val_loss']\n",
    "df.plot(grid=True)"
   ]
  },
  {
   "cell_type": "markdown",
   "metadata": {
    "colab_type": "text",
    "id": "QKKEST-jmzKZ"
   },
   "source": [
    "### 2 hidden layers with L2 regularization"
   ]
  },
  {
   "cell_type": "code",
   "execution_count": 0,
   "metadata": {
    "colab": {
     "base_uri": "https://localhost:8080/",
     "height": 34
    },
    "colab_type": "code",
    "id": "5tQvpUwFWy28",
    "outputId": "f7f0de67-3957-4c0f-b89c-2960f122e656"
   },
   "outputs": [
    {
     "name": "stdout",
     "output_type": "stream",
     "text": [
      "Accuracy: 10.09%\n"
     ]
    }
   ],
   "source": [
    "nn = NeuralNet(num_of_layers=2, l2=True)\n",
    "train = nn.fit(train_x, train_y, (x_val, y_val), epochs=30)\n",
    "accuracy = nn.predict(x_test, y_test)\n",
    "print(\"Accuracy: \" + str(round(accuracy*100, 2)) + \"%\")"
   ]
  },
  {
   "cell_type": "code",
   "execution_count": 0,
   "metadata": {
    "colab": {
     "base_uri": "https://localhost:8080/",
     "height": 286
    },
    "colab_type": "code",
    "id": "Wu4sJ18MWy5V",
    "outputId": "856daa17-e63b-48c5-fdad-e58c2818268d"
   },
   "outputs": [
    {
     "data": {
      "text/plain": [
       "<matplotlib.axes._subplots.AxesSubplot at 0x7fcadbe24748>"
      ]
     },
     "execution_count": 15,
     "metadata": {
      "tags": []
     },
     "output_type": "execute_result"
    },
    {
     "data": {
      "image/png": "[encoded data removed]",
      "text/plain": [
       "<Figure size 432x288 with 1 Axes>"
      ]
     },
     "metadata": {
      "tags": []
     },
     "output_type": "display_data"
    }
   ],
   "source": [
    "df = pd.DataFrame()\n",
    "df['training_loss'] = train.history['loss']\n",
    "df['validation_loss'] = train.history['val_loss']\n",
    "df.plot(grid=True)"
   ]
  },
  {
   "cell_type": "markdown",
   "metadata": {
    "colab_type": "text",
    "id": "sHvII6-pmzVi"
   },
   "source": [
    "### 3 hidden layers with L2 regularization"
   ]
  },
  {
   "cell_type": "code",
   "execution_count": 0,
   "metadata": {
    "colab": {
     "base_uri": "https://localhost:8080/",
     "height": 34
    },
    "colab_type": "code",
    "id": "HQYQWoFSWy7z",
    "outputId": "e3a98e25-c8d0-4dfe-c651-89ce708c8164"
   },
   "outputs": [
    {
     "name": "stdout",
     "output_type": "stream",
     "text": [
      "Accuracy: 8.92%\n"
     ]
    }
   ],
   "source": [
    "nn = NeuralNet(num_of_layers=3, l2=True)\n",
    "train = nn.fit(train_x, train_y, (x_val, y_val), epochs=30)\n",
    "accuracy = nn.predict(x_test, y_test)\n",
    "print(\"Accuracy: \" + str(round(accuracy*100, 2)) + \"%\")"
   ]
  },
  {
   "cell_type": "code",
   "execution_count": 0,
   "metadata": {
    "colab": {
     "base_uri": "https://localhost:8080/",
     "height": 286
    },
    "colab_type": "code",
    "id": "GqgYpT5lWy-B",
    "outputId": "4dcb12a9-7201-4f0d-81ec-1c6b6298e6b9"
   },
   "outputs": [
    {
     "data": {
      "text/plain": [
       "<matplotlib.axes._subplots.AxesSubplot at 0x7fcadb624e10>"
      ]
     },
     "execution_count": 17,
     "metadata": {
      "tags": []
     },
     "output_type": "execute_result"
    },
    {
     "data": {
      "image/png": "[encoded data removed]",
      "text/plain": [
       "<Figure size 432x288 with 1 Axes>"
      ]
     },
     "metadata": {
      "tags": []
     },
     "output_type": "display_data"
    }
   ],
   "source": [
    "df = pd.DataFrame()\n",
    "df['training_loss'] = train.history['loss']\n",
    "df['validation_loss'] = train.history['val_loss']\n",
    "df.plot(grid=True)"
   ]
  },
  {
   "cell_type": "markdown",
   "metadata": {
    "colab_type": "text",
    "id": "JkeeYXgMoyrN"
   },
   "source": [
    "## CNN"
   ]
  },
  {
   "cell_type": "code",
   "execution_count": 0,
   "metadata": {
    "colab": {
     "base_uri": "https://localhost:8080/",
     "height": 156
    },
    "colab_type": "code",
    "id": "-TtvARPiWzAR",
    "outputId": "3992d3c1-d823-4fee-a4ab-035af35a1e93"
   },
   "outputs": [
    {
     "name": "stdout",
     "output_type": "stream",
     "text": [
      "WARNING:tensorflow:From /usr/local/lib/python3.6/dist-packages/tensorflow/python/ops/math_ops.py:3066: to_int32 (from tensorflow.python.ops.math_ops) is deprecated and will be removed in a future version.\n",
      "Instructions for updating:\n",
      "Use tf.cast instead.\n"
     ]
    },
    {
     "name": "stderr",
     "output_type": "stream",
     "text": [
      "/usr/local/lib/python3.6/dist-packages/keras_preprocessing/image/image_data_generator.py:699: UserWarning: This ImageDataGenerator specifies `featurewise_center`, but it hasn't been fit on any training data. Fit it first by calling `.fit(numpy_data)`.\n",
      "  warnings.warn('This ImageDataGenerator specifies '\n",
      "/usr/local/lib/python3.6/dist-packages/keras_preprocessing/image/image_data_generator.py:707: UserWarning: This ImageDataGenerator specifies `featurewise_std_normalization`, but it hasn't been fit on any training data. Fit it first by calling `.fit(numpy_data)`.\n",
      "  warnings.warn('This ImageDataGenerator specifies '\n"
     ]
    }
   ],
   "source": [
    "cnn = ConvolutionalNeuralNet()\n",
    "cnn.shift_rotate(rotate_degree=3, shift_pixel=3)\n",
    "train_x = train_x.reshape(train_x.shape[0], 28, 28, 1)\n",
    "x_val = x_val.reshape(x_val.shape[0], 28, 28, 1)\n",
    "x_test = x_test.reshape(x_test.shape[0], 28, 28, 1)\n",
    "cnn.fit(train_x, train_y, (x_val, y_val), batch_size=128, epochs=10)\n",
    "accuracy = cnn.predict(x_test, y_test)"
   ]
  },
  {
   "cell_type": "code",
   "execution_count": 0,
   "metadata": {
    "colab": {
     "base_uri": "https://localhost:8080/",
     "height": 34
    },
    "colab_type": "code",
    "id": "YcIfsce2fH1s",
    "outputId": "a9270741-8e74-4e41-9771-a3c0f3b50413"
   },
   "outputs": [
    {
     "name": "stdout",
     "output_type": "stream",
     "text": [
      "Accuracy: 14.23%\n"
     ]
    }
   ],
   "source": [
    "print(\"Accuracy: \" + str(round(accuracy[1]*100, 2)) + \"%\")"
   ]
  }
 ],
 "metadata": {
  "accelerator": "TPU",
  "colab": {
   "collapsed_sections": [],
   "name": "CSE555PA4.ipynb",
   "provenance": [],
   "toc_visible": true,
   "version": "0.3.2"
  },
  "kernelspec": {
   "display_name": "Python 3",
   "language": "python",
   "name": "python3"
  },
  "language_info": {
   "codemirror_mode": {
    "name": "ipython",
    "version": 3
   },
   "file_extension": ".py",
   "mimetype": "text/x-python",
   "name": "python",
   "nbconvert_exporter": "python",
   "pygments_lexer": "ipython3",
   "version": "3.7.3"
  }
 },
 "nbformat": 4,
 "nbformat_minor": 1
}
